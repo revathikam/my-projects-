{
  "nbformat": 4,
  "nbformat_minor": 0,
  "metadata": {
    "colab": {
      "provenance": [],
      "gpuType": "T4",
      "authorship_tag": "ABX9TyMZRRS9B2SAEd6ZdsEuc5l8",
      "include_colab_link": true
    },
    "kernelspec": {
      "name": "python3",
      "display_name": "Python 3"
    },
    "language_info": {
      "name": "python"
    },
    "accelerator": "GPU",
    
  },
  "cells": [
    {
      "cell_type": "markdown",
      "metadata": {
        "id": "view-in-github",
        "colab_type": "text"
      },
      "source": [
        "<a href=\"https://colab.research.google.com/github/revathikam/my-projects-/blob/main/Final_LLM_Assignment_2.ipynb\" target=\"_parent\"><img src=\"https://colab.research.google.com/assets/colab-badge.svg\" alt=\"Open In Colab\"/></a>"
      ]
    },
    {
      "cell_type": "markdown",
      "source": [
        "Mount Google Drive"
      ],
      "metadata": {
        "id": "P1DK-GrkI3pp"
      }
    },
    {
      "cell_type": "code",
      "execution_count": null,
      "metadata": {
        "colab": {
          "base_uri": "https://localhost:8080/"
        },
        "id": "GRR6a7XQFutZ",
        "outputId": "84306a4a-7c64-451b-ed34-3a8cba1dc1b0"
      },
      "outputs": [
        {
          "output_type": "stream",
          "name": "stdout",
          "text": [
            "Mounted at /content/drive\n"
          ]
        }
      ],
      "source": [
        "from google.colab import drive\n",
        "drive.mount('/content/drive')\n"
      ]
    },
    {
      "cell_type": "markdown",
      "source": [
        "Unzip the Dataset"
      ],
      "metadata": {
        "id": "itwsJ09UMqDF"
      }
    },
    {
      "cell_type": "code",
      "execution_count": null,
      "metadata": {
        "id": "NV62eBgKzfZb"
      },
      "outputs": [],
      "source": [
        "import zipfile\n",
        "import os\n",
        "\n",
        "zip_path = \"/content/drive/MyDrive/LLM assignment 2/IMDB Dataset.csv.zip\"\n",
        "extract_path = \"/content/drive/MyDrive/LLM assignment 2\"\n",
        "\n",
        "os.makedirs(extract_path, exist_ok=True)\n",
        "\n",
        "with zipfile.ZipFile(zip_path, 'r') as zip_ref:\n",
        "    zip_ref.extractall(extract_path)\n"
      ]
    },
    {
      "cell_type": "markdown",
      "source": [
        "Install Required Libraries\n",
        "\n",
        "\n"
      ],
      "metadata": {
        "id": "SkaPy-7BNIFt"
      }
    },
    {
      "cell_type": "code",
      "execution_count": null,
      "metadata": {
        "colab": {
          "base_uri": "https://localhost:8080/"
        },
        "id": "ax-PPnvp1RD9",
        "outputId": "6c400917-7143-49a9-fe02-eb9eb0f5ddd3"
      },
      "outputs": [
        {
          "output_type": "stream",
          "name": "stdout",
          "text": [
            "Requirement already satisfied: transformers in /usr/local/lib/python3.11/dist-packages (4.53.1)\n",
            "Requirement already satisfied: datasets in /usr/local/lib/python3.11/dist-packages (2.14.4)\n",
            "Requirement already satisfied: scikit-learn in /usr/local/lib/python3.11/dist-packages (1.6.1)\n",
            "Requirement already satisfied: pandas in /usr/local/lib/python3.11/dist-packages (2.2.2)\n",
            "Requirement already satisfied: matplotlib in /usr/local/lib/python3.11/dist-packages (3.10.0)\n",
            "Requirement already satisfied: tqdm in /usr/local/lib/python3.11/dist-packages (4.67.1)\n",
            "Requirement already satisfied: filelock in /usr/local/lib/python3.11/dist-packages (from transformers) (3.18.0)\n",
            "Requirement already satisfied: huggingface-hub<1.0,>=0.30.0 in /usr/local/lib/python3.11/dist-packages (from transformers) (0.33.2)\n",
            "Requirement already satisfied: numpy>=1.17 in /usr/local/lib/python3.11/dist-packages (from transformers) (2.0.2)\n",
            "Requirement already satisfied: packaging>=20.0 in /usr/local/lib/python3.11/dist-packages (from transformers) (24.2)\n",
            "Requirement already satisfied: pyyaml>=5.1 in /usr/local/lib/python3.11/dist-packages (from transformers) (6.0.2)\n",
            "Requirement already satisfied: regex!=2019.12.17 in /usr/local/lib/python3.11/dist-packages (from transformers) (2024.11.6)\n",
            "Requirement already satisfied: requests in /usr/local/lib/python3.11/dist-packages (from transformers) (2.32.3)\n",
            "Requirement already satisfied: tokenizers<0.22,>=0.21 in /usr/local/lib/python3.11/dist-packages (from transformers) (0.21.2)\n",
            "Requirement already satisfied: safetensors>=0.4.3 in /usr/local/lib/python3.11/dist-packages (from transformers) (0.5.3)\n",
            "Requirement already satisfied: pyarrow>=8.0.0 in /usr/local/lib/python3.11/dist-packages (from datasets) (18.1.0)\n",
            "Requirement already satisfied: dill<0.3.8,>=0.3.0 in /usr/local/lib/python3.11/dist-packages (from datasets) (0.3.7)\n",
            "Requirement already satisfied: xxhash in /usr/local/lib/python3.11/dist-packages (from datasets) (3.5.0)\n",
            "Requirement already satisfied: multiprocess in /usr/local/lib/python3.11/dist-packages (from datasets) (0.70.15)\n",
            "Requirement already satisfied: fsspec>=2021.11.1 in /usr/local/lib/python3.11/dist-packages (from fsspec[http]>=2021.11.1->datasets) (2025.3.2)\n",
            "Requirement already satisfied: aiohttp in /usr/local/lib/python3.11/dist-packages (from datasets) (3.11.15)\n",
            "Requirement already satisfied: scipy>=1.6.0 in /usr/local/lib/python3.11/dist-packages (from scikit-learn) (1.15.3)\n",
            "Requirement already satisfied: joblib>=1.2.0 in /usr/local/lib/python3.11/dist-packages (from scikit-learn) (1.5.1)\n",
            "Requirement already satisfied: threadpoolctl>=3.1.0 in /usr/local/lib/python3.11/dist-packages (from scikit-learn) (3.6.0)\n",
            "Requirement already satisfied: python-dateutil>=2.8.2 in /usr/local/lib/python3.11/dist-packages (from pandas) (2.9.0.post0)\n",
            "Requirement already satisfied: pytz>=2020.1 in /usr/local/lib/python3.11/dist-packages (from pandas) (2025.2)\n",
            "Requirement already satisfied: tzdata>=2022.7 in /usr/local/lib/python3.11/dist-packages (from pandas) (2025.2)\n",
            "Requirement already satisfied: contourpy>=1.0.1 in /usr/local/lib/python3.11/dist-packages (from matplotlib) (1.3.2)\n",
            "Requirement already satisfied: cycler>=0.10 in /usr/local/lib/python3.11/dist-packages (from matplotlib) (0.12.1)\n",
            "Requirement already satisfied: fonttools>=4.22.0 in /usr/local/lib/python3.11/dist-packages (from matplotlib) (4.58.5)\n",
            "Requirement already satisfied: kiwisolver>=1.3.1 in /usr/local/lib/python3.11/dist-packages (from matplotlib) (1.4.8)\n",
            "Requirement already satisfied: pillow>=8 in /usr/local/lib/python3.11/dist-packages (from matplotlib) (11.2.1)\n",
            "Requirement already satisfied: pyparsing>=2.3.1 in /usr/local/lib/python3.11/dist-packages (from matplotlib) (3.2.3)\n",
            "Requirement already satisfied: aiohappyeyeballs>=2.3.0 in /usr/local/lib/python3.11/dist-packages (from aiohttp->datasets) (2.6.1)\n",
            "Requirement already satisfied: aiosignal>=1.1.2 in /usr/local/lib/python3.11/dist-packages (from aiohttp->datasets) (1.4.0)\n",
            "Requirement already satisfied: attrs>=17.3.0 in /usr/local/lib/python3.11/dist-packages (from aiohttp->datasets) (25.3.0)\n",
            "Requirement already satisfied: frozenlist>=1.1.1 in /usr/local/lib/python3.11/dist-packages (from aiohttp->datasets) (1.7.0)\n",
            "Requirement already satisfied: multidict<7.0,>=4.5 in /usr/local/lib/python3.11/dist-packages (from aiohttp->datasets) (6.6.3)\n",
            "Requirement already satisfied: propcache>=0.2.0 in /usr/local/lib/python3.11/dist-packages (from aiohttp->datasets) (0.3.2)\n",
            "Requirement already satisfied: yarl<2.0,>=1.17.0 in /usr/local/lib/python3.11/dist-packages (from aiohttp->datasets) (1.20.1)\n",
            "Requirement already satisfied: typing-extensions>=3.7.4.3 in /usr/local/lib/python3.11/dist-packages (from huggingface-hub<1.0,>=0.30.0->transformers) (4.14.1)\n",
            "Requirement already satisfied: hf-xet<2.0.0,>=1.1.2 in /usr/local/lib/python3.11/dist-packages (from huggingface-hub<1.0,>=0.30.0->transformers) (1.1.5)\n",
            "Requirement already satisfied: six>=1.5 in /usr/local/lib/python3.11/dist-packages (from python-dateutil>=2.8.2->pandas) (1.17.0)\n",
            "Requirement already satisfied: charset-normalizer<4,>=2 in /usr/local/lib/python3.11/dist-packages (from requests->transformers) (3.4.2)\n",
            "Requirement already satisfied: idna<4,>=2.5 in /usr/local/lib/python3.11/dist-packages (from requests->transformers) (3.10)\n",
            "Requirement already satisfied: urllib3<3,>=1.21.1 in /usr/local/lib/python3.11/dist-packages (from requests->transformers) (2.4.0)\n",
            "Requirement already satisfied: certifi>=2017.4.17 in /usr/local/lib/python3.11/dist-packages (from requests->transformers) (2025.6.15)\n"
          ]
        }
      ],
      "source": [
        "!pip install transformers datasets scikit-learn pandas matplotlib tqdm\n"
      ]
    },
    {
      "cell_type": "markdown",
      "source": [
        "Import All Required Libraries"
      ],
      "metadata": {
        "id": "5eC6BqVkPGEI"
      }
    },
    {
      "cell_type": "code",
      "execution_count": null,
      "metadata": {
        "id": "yvXhJzQh1V8H"
      },
      "outputs": [],
      "source": [
        "import pandas as pd\n",
        "import numpy as np\n",
        "import torch\n",
        "from transformers import BertTokenizer, BertForSequenceClassification, Trainer, TrainingArguments\n",
        "from sklearn.model_selection import train_test_split\n",
        "from sklearn.metrics import accuracy_score, f1_score\n",
        "from datasets import Dataset\n",
        "import matplotlib.pyplot as plt\n"
      ]
    },
    {
      "cell_type": "markdown",
      "source": [
        "Load and Prepare the IMDb Dataset(test,train )"
      ],
      "metadata": {
        "id": "hKTxx5DYPOzX"
      }
    },
    {
      "cell_type": "code",
      "source": [
        "import pandas as pd\n",
        "from sklearn.model_selection import train_test_split\n",
        "\n",
        "df = pd.read_csv(\"/content/drive/MyDrive/LLM assignment 2/IMDB Dataset.csv\")  # Load original data\n",
        "train_df, test_df = train_test_split(df, test_size=0.2, stratify=df['sentiment'], random_state=42)  # Split data\n",
        "train_df.to_csv(\"/content/drive/MyDrive/LLM assignment 2/train_data.csv\", index=False)\n",
        "test_df.to_csv(\"/content/drive/MyDrive/LLM assignment 2/test_data.csv\", index=False)\n",
        "train_df, test_df = pd.read_csv(\"/content/drive/MyDrive/LLM assignment 2/train_data.csv\"), pd.read_csv(\"/content/drive/MyDrive/LLM assignment 2/test_data.csv\")\n",
        "print(f\"Train: {len(train_df)}, Test: {len(test_df)}\\n\\nTrain dist:\\n{train_df['sentiment'].value_counts()}\\n\\nTest dist:\\n{test_df['sentiment'].value_counts()}\\n\\nSamples:\\n{train_df[['review','sentiment']].head(3)}\")\n"
      ],
      "metadata": {
        "colab": {
          "base_uri": "https://localhost:8080/"
        },
        "id": "WlxZcOInYB_r",
        "outputId": "9327a675-d65c-4079-8c14-f06efa483168"
      },
      "execution_count": null,
      "outputs": [
        {
          "output_type": "stream",
          "name": "stdout",
          "text": [
            "Train: 40000, Test: 10000\n",
            "\n",
            "Train dist:\n",
            "sentiment\n",
            "positive    20000\n",
            "negative    20000\n",
            "Name: count, dtype: int64\n",
            "\n",
            "Test dist:\n",
            "sentiment\n",
            "negative    5000\n",
            "positive    5000\n",
            "Name: count, dtype: int64\n",
            "\n",
            "Samples:\n",
            "                                              review sentiment\n",
            "0  I caught this little gem totally by accident b...  positive\n",
            "1  I can't believe that I let myself into this mo...  negative\n",
            "2  *spoiler alert!* it just gets to me the nerve ...  negative\n"
          ]
        }
      ]
    },
    {
      "cell_type": "markdown",
      "source": [
        "class"
      ],
      "metadata": {
        "id": "jWbboPZxbLKl"
      }
    },
    {
      "cell_type": "code",
      "source": [
        "# Print unique class labels\n",
        "print(\"Class labels:\", train_df['sentiment'].unique())\n",
        "\n",
        "# Print label distribution in train and test sets\n",
        "print(\"\\nTraining set label counts:\\n\", train_df['sentiment'].value_counts())\n",
        "print(\"\\nTest set label counts:\\n\", test_df['sentiment'].value_counts())\n",
        "class_labels = sorted(train_df['sentiment'].unique())\n",
        "print(\"Class label list:\", class_labels)\n"
      ],
      "metadata": {
        "colab": {
          "base_uri": "https://localhost:8080/"
        },
        "id": "HQKyvmOtZsz5",
        "outputId": "41ef2987-e201-4f2b-ccfb-fe0c6cdf0113"
      },
      "execution_count": null,
      "outputs": [
        {
          "output_type": "stream",
          "name": "stdout",
          "text": [
            "Class labels: ['positive' 'negative']\n",
            "\n",
            "Training set label counts:\n",
            " sentiment\n",
            "positive    20000\n",
            "negative    20000\n",
            "Name: count, dtype: int64\n",
            "\n",
            "Test set label counts:\n",
            " sentiment\n",
            "negative    5000\n",
            "positive    5000\n",
            "Name: count, dtype: int64\n",
            "Class label list: ['negative', 'positive']\n"
          ]
        }
      ]
    },
    {
      "cell_type": "markdown",
      "source": [
        "EDA\n"
      ],
      "metadata": {
        "id": "-QfIHKptawFH"
      }
    },
    {
      "cell_type": "code",
      "source": [
        "import pandas as pd, seaborn as sns, matplotlib.pyplot as plt\n",
        "\n",
        "df['length'] = df['review'].str.len()\n",
        "\n",
        "# Bar plot with counts\n",
        "plt.figure(figsize=(6,4))\n",
        "ax = sns.countplot(x='sentiment', data=df, palette='Set2')\n",
        "plt.title(\"Class Distribution (Full Dataset)\")\n",
        "for p in ax.patches:\n",
        "    ax.annotate(f'{p.get_height()}', (p.get_x()+0.3, p.get_height()+500))\n",
        "plt.legend(title=\"Sentiment\", labels=df['sentiment'].unique())\n",
        "plt.show()\n",
        "\n",
        "# Review length histogram\n",
        "plt.figure(figsize=(6,4))\n",
        "sns.histplot(df['length'], bins=30, kde=False, color='skyblue')\n",
        "plt.title(\"Review Lengths (Full Dataset)\")\n",
        "plt.xlabel(\"Number of Characters\")\n",
        "plt.ylabel(\"Frequency\")\n",
        "plt.show()\n",
        "\n",
        "# Print one example per class\n",
        "for label in df['sentiment'].unique():\n",
        "    print(f\"\\n{label} sample:\\n\", df[df['sentiment']==label]['review'].iloc[0])\n"
      ],
      "metadata": {
        "colab": {
          "base_uri": "https://localhost:8080/",
          "height": 1000
        },
        "id": "w4TGdLIHbleX",
        "outputId": "d702a573-bdfe-423b-add4-1f38a933debc"
      },
      "execution_count": null,
      "outputs": [
        {
          "output_type": "stream",
          "name": "stderr",
          "text": [
            "/tmp/ipython-input-7-2603806220.py:7: FutureWarning: \n",
            "\n",
            "Passing `palette` without assigning `hue` is deprecated and will be removed in v0.14.0. Assign the `x` variable to `hue` and set `legend=False` for the same effect.\n",
            "\n",
            "  ax = sns.countplot(x='sentiment', data=df, palette='Set2')\n"
          ]
        },
        {
          "output_type": "display_data",
          "data": {
            "text/plain": [
              "<Figure size 600x400 with 1 Axes>"
            ],
            "image/png": "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\n"
          },
          "metadata": {}
        },
        {
          "output_type": "display_data",
          "data": {
            "text/plain": [
              "<Figure size 600x400 with 1 Axes>"
            ],
            "image/png": "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\n"
          },
          "metadata": {}
        },
        {
          "output_type": "stream",
          "name": "stdout",
          "text": [
            "\n",
            "positive sample:\n",
            " One of the other reviewers has mentioned that after watching just 1 Oz episode you'll be hooked. They are right, as this is exactly what happened with me.<br /><br />The first thing that struck me about Oz was its brutality and unflinching scenes of violence, which set in right from the word GO. Trust me, this is not a show for the faint hearted or timid. This show pulls no punches with regards to drugs, sex or violence. Its is hardcore, in the classic use of the word.<br /><br />It is called OZ as that is the nickname given to the Oswald Maximum Security State Penitentary. It focuses mainly on Emerald City, an experimental section of the prison where all the cells have glass fronts and face inwards, so privacy is not high on the agenda. Em City is home to many..Aryans, Muslims, gangstas, Latinos, Christians, Italians, Irish and more....so scuffles, death stares, dodgy dealings and shady agreements are never far away.<br /><br />I would say the main appeal of the show is due to the fact that it goes where other shows wouldn't dare. Forget pretty pictures painted for mainstream audiences, forget charm, forget romance...OZ doesn't mess around. The first episode I ever saw struck me as so nasty it was surreal, I couldn't say I was ready for it, but as I watched more, I developed a taste for Oz, and got accustomed to the high levels of graphic violence. Not just violence, but injustice (crooked guards who'll be sold out for a nickel, inmates who'll kill on order and get away with it, well mannered, middle class inmates being turned into prison bitches due to their lack of street skills or prison experience) Watching Oz, you may become comfortable with what is uncomfortable viewing....thats if you can get in touch with your darker side.\n",
            "\n",
            "negative sample:\n",
            " Basically there's a family where a little boy (Jake) thinks there's a zombie in his closet & his parents are fighting all the time.<br /><br />This movie is slower than a soap opera... and suddenly, Jake decides to become Rambo and kill the zombie.<br /><br />OK, first of all when you're going to make a film you must Decide if its a thriller or a drama! As a drama the movie is watchable. Parents are divorcing & arguing like in real life. And then we have Jake with his closet which totally ruins all the film! I expected to see a BOOGEYMAN similar movie, and instead i watched a drama with some meaningless thriller spots.<br /><br />3 out of 10 just for the well playing parents & descent dialogs. As for the shots with Jake: just ignore them.\n"
          ]
        }
      ]
    },
    {
      "cell_type": "markdown",
      "source": [
        "Preprocessing"
      ],
      "metadata": {
        "id": "B1AgViGtbRob"
      }
    },
    {
      "cell_type": "code",
      "source": [
        "import re\n",
        "import nltk\n",
        "nltk.download('stopwords')\n",
        "from nltk.corpus import stopwords\n",
        "\n",
        "stop_words = set(stopwords.words('english'))\n",
        "\n",
        "def preprocess_text(text):\n",
        "    text = text.lower()                         # Lower case\n",
        "    text = re.sub(r'<.*?>', '', text)           # Remove HTML tags\n",
        "    text = re.sub(r'[^a-z\\s]', '', text)        # Remove punctuation & numbers\n",
        "    text = re.sub(r'\\s+', ' ', text).strip()    # Remove extra whitespace\n",
        "    text = ' '.join(word for word in text.split() if word not in stop_words)  # Remove stopwords\n",
        "    return text\n",
        "\n",
        "df['clean_review'] = df['review'].apply(preprocess_text)\n",
        "\n",
        "print(df[['review', 'clean_review']].head(3))\n"
      ],
      "metadata": {
        "colab": {
          "base_uri": "https://localhost:8080/"
        },
        "id": "Ey61o-lIcGv5",
        "outputId": "bce1bed4-da1f-4899-8ade-037cbd493212"
      },
      "execution_count": null,
      "outputs": [
        {
          "output_type": "stream",
          "name": "stderr",
          "text": [
            "[nltk_data] Downloading package stopwords to /root/nltk_data...\n",
            "[nltk_data]   Unzipping corpora/stopwords.zip.\n"
          ]
        },
        {
          "output_type": "stream",
          "name": "stdout",
          "text": [
            "                                              review  \\\n",
            "0  One of the other reviewers has mentioned that ...   \n",
            "1  A wonderful little production. <br /><br />The...   \n",
            "2  I thought this was a wonderful way to spend ti...   \n",
            "\n",
            "                                        clean_review  \n",
            "0  one reviewers mentioned watching oz episode yo...  \n",
            "1  wonderful little production filming technique ...  \n",
            "2  thought wonderful way spend time hot summer we...  \n"
          ]
        }
      ]
    },
    {
      "cell_type": "code",
      "source": [
        "\n",
        "# 1. Preprocess train and test reviews\n",
        "train_df['clean_review'] = train_df['review'].apply(preprocess_text)\n",
        "test_df['clean_review'] = test_df['review'].apply(preprocess_text)\n",
        "\n",
        "# 2. Extract cleaned texts as lists\n",
        "train_texts = train_df['clean_review'].tolist()\n",
        "val_texts = test_df['clean_review'].tolist()\n"
      ],
      "metadata": {
        "id": "MpSrN4dQd5dc"
      },
      "execution_count": null,
      "outputs": []
    },
    {
      "cell_type": "markdown",
      "source": [
        "Tokenization with BERT"
      ],
      "metadata": {
        "id": "BxNBPRRteRIU"
      }
    },
    {
      "cell_type": "code",
      "source": [
        "from transformers import BertTokenizer\n",
        "\n",
        "tokenizer = BertTokenizer.from_pretrained('bert-base-uncased')\n",
        "def tokenize_function(texts):\n",
        "    return tokenizer(texts, padding=\"max_length\", truncation=True, max_length=256)\n",
        "\n",
        "train_encodings = tokenize_function(train_texts)\n",
        "val_encodings = tokenize_function(val_texts)\n"
      ],
      "metadata": {
        "colab": {
          "base_uri": "https://localhost:8080/",
          "height": 272,
          "referenced_widgets": [
            "d5c0880b77804ed9a66f3f9e7be60d94",
            "20e8a4d6cb134f409f780b0e2f4e5525",
            "66c9ea5ab9e7484db9d9fa91e151694f",
            "01e8aeb9d16b452c9d26c471318a15eb",
            "91ec85970c8f4e989dda0845ec7b8275",
            "592c579da11746318a850768fe0213b8",
            "38e9610a0691416a84d9de14a12af7f5",
            "a9113df88e7f4500a8d336bd38a5062c",
            "071d09ab23a1430a9d01cc42a491f7e8",
            "21c091b2eb31493e875e6b2680246ffe",
            "20cb5f55100b471ebd4b913ed2d399f4",
            "90640224e6104123add42a24e6631ca3",
            "4abe3945e7714ad6a5138c4156c1f23a",
            "df56bb7bbd424f2cb7afd07565a225aa",
            "dfe19ce8497d40f9b5360b1384d0e3b6",
            "7faad8b61f0549d6ba365fa8e62deec3",
            "36c82465d74e490c9eb4837d55de5ce5",
            "621722180acf4129afac57b11cabc519",
            "b6f154bb03e14318bb93bf1b7277330c",
            "cb4e20bcecf946afa5b344386aadb08a",
            "ea3b640fda9e40e4a501373154a983c2",
            "9cb0bc0f6acf41bbb3bb78074ffab0d8",
            "e734413b98bc4835bc9b6136be0648cc",
            "16e900b72d244dbd8e4cc628bbd7f6b5",
            "9d3cab148a9245fcb3a0ccd3895d8cbe",
            "dd7c450f03444e339f2aeb40250b2daf",
            "81eb7ba3f5a645518a0bac0f82bab38f",
            "d8147ead64ac40a1b2cc48b29c996f17",
            "69d2b6323afb41c5b792419f7875da85",
            "df5837a5d7d44e68a62dfbb43fb74a63",
            "d222f4dccef04f7c8e025274cedb71d9",
            "215d1a89ae4d4904a052b5ea71f072c0",
            "90362bc6983d4bb3b5303628bc800e88",
            "2068db549da04ce7aeb21174ce5e34a4",
            "5a646fb35b334749895c90ac702ab697",
            "127d44f53ce7403da9d8ead1b5219608",
            "5d3ade9d6b664c6ba144d8928db12797",
            "b3c4db81eea44982bcf7ed55d05b610a",
            "2c7210afa5d0413c9a534c98387669a9",
            "fd676571ce514ac8893c9950dfccd578",
            "a75d5c05c75c4eae8bf41136f041622a",
            "c5cacf1be5f34ac984ffed981ace5b27",
            "d91f7eab1fcf47e48e1e062a9b57785f",
            "bedce2c1af714598b86eb87de56bd14e"
          ]
        },
        "id": "sGBLdsqCdlqr",
        "outputId": "914c78ac-ed0a-4de6-c31d-39c34f88d126"
      },
      "execution_count": null,
      "outputs": [
        {
          "output_type": "stream",
          "name": "stderr",
          "text": [
            "/usr/local/lib/python3.11/dist-packages/huggingface_hub/utils/_auth.py:94: UserWarning: \n",
            "The secret `HF_TOKEN` does not exist in your Colab secrets.\n",
            "To authenticate with the Hugging Face Hub, create a token in your settings tab (https://huggingface.co/settings/tokens), set it as secret in your Google Colab and restart your session.\n",
            "You will be able to reuse this secret in all of your notebooks.\n",
            "Please note that authentication is recommended but still optional to access public models or datasets.\n",
            "  warnings.warn(\n"
          ]
        },
        {
          "output_type": "display_data",
          "data": {
            "text/plain": [
              "tokenizer_config.json:   0%|          | 0.00/48.0 [00:00<?, ?B/s]"
            ],
            "application/vnd.jupyter.widget-view+json": {
              "version_major": 2,
              "version_minor": 0,
              "model_id": "d5c0880b77804ed9a66f3f9e7be60d94"
            }
          },
          "metadata": {}
        },
        {
          "output_type": "display_data",
          "data": {
            "text/plain": [
              "vocab.txt:   0%|          | 0.00/232k [00:00<?, ?B/s]"
            ],
            "application/vnd.jupyter.widget-view+json": {
              "version_major": 2,
              "version_minor": 0,
              "model_id": "90640224e6104123add42a24e6631ca3"
            }
          },
          "metadata": {}
        },
        {
          "output_type": "display_data",
          "data": {
            "text/plain": [
              "tokenizer.json:   0%|          | 0.00/466k [00:00<?, ?B/s]"
            ],
            "application/vnd.jupyter.widget-view+json": {
              "version_major": 2,
              "version_minor": 0,
              "model_id": "e734413b98bc4835bc9b6136be0648cc"
            }
          },
          "metadata": {}
        },
        {
          "output_type": "display_data",
          "data": {
            "text/plain": [
              "config.json:   0%|          | 0.00/570 [00:00<?, ?B/s]"
            ],
            "application/vnd.jupyter.widget-view+json": {
              "version_major": 2,
              "version_minor": 0,
              "model_id": "2068db549da04ce7aeb21174ce5e34a4"
            }
          },
          "metadata": {}
        }
      ]
    },
    {
      "cell_type": "markdown",
      "source": [
        "Encode Labels"
      ],
      "metadata": {
        "id": "Z3fJ_Nj6eclr"
      }
    },
    {
      "cell_type": "code",
      "source": [
        "label_map = {'negative': 0, 'positive': 1}\n",
        "\n",
        "train_labels = train_df['sentiment'].map(label_map).tolist()\n",
        "val_labels = test_df['sentiment'].map(label_map).tolist()\n"
      ],
      "metadata": {
        "id": "tdWXrXUVec3E"
      },
      "execution_count": null,
      "outputs": []
    },
    {
      "cell_type": "markdown",
      "source": [
        "Create Hugging Face Dataset objects"
      ],
      "metadata": {
        "id": "3UZYT2rGekIO"
      }
    },
    {
      "cell_type": "code",
      "source": [
        "from datasets import Dataset\n",
        "\n",
        "train_dataset = Dataset.from_dict({\n",
        "    'input_ids': train_encodings['input_ids'],\n",
        "    'attention_mask': train_encodings['attention_mask'],\n",
        "    'labels': train_labels\n",
        "})\n",
        "\n",
        "val_dataset = Dataset.from_dict({\n",
        "    'input_ids': val_encodings['input_ids'],\n",
        "    'attention_mask': val_encodings['attention_mask'],\n",
        "    'labels': val_labels\n",
        "})\n"
      ],
      "metadata": {
        "id": "O-ee-VQyek0b"
      },
      "execution_count": null,
      "outputs": []
    },
    {
      "cell_type": "markdown",
      "source": [
        "Load BERT Model for Fine-Tuning"
      ],
      "metadata": {
        "id": "FPqW8EnDhCQe"
      }
    },
    {
      "cell_type": "code",
      "source": [
        "from transformers import BertForSequenceClassification\n",
        "\n",
        "# Load BERT base model with a classification head (2 classes: positive, negative)\n",
        "model = BertForSequenceClassification.from_pretrained('bert-base-uncased', num_labels=2)\n"
      ],
      "metadata": {
        "colab": {
          "base_uri": "https://localhost:8080/",
          "height": 105,
          "referenced_widgets": [
            "3dab77f382a84cd1bfe382a3d1cfac88",
            "7f6b2827fede468c884ccbe04ab220e3",
            "63adaf995f994837876b940a4a780206",
            "393e273f27864d7da5d4a0ce0a84bdaf",
            "720e8083a8084c4fa22bf5d999e1f404",
            "5af5d43331214484b0c91d96f18b6409",
            "8f941a9873064e488c5108156b5f7189",
            "08b1f720830449f4905934800edfecab",
            "290ee96b7c414063aa731338e1dd160f",
            "09eb4ab9535a4f68989a8e6c0bac2b6f",
            "6861748777294114948f65493c8edfdb"
          ]
        },
        "id": "K69KI3nJhCnh",
        "outputId": "004f32dd-9086-4ad4-9d3f-b27d7282c547"
      },
      "execution_count": null,
      "outputs": [
        {
          "output_type": "display_data",
          "data": {
            "text/plain": [
              "model.safetensors:   0%|          | 0.00/440M [00:00<?, ?B/s]"
            ],
           
          },
          "metadata": {}
        },
        {
          "output_type": "stream",
          "name": "stderr",
          "text": [
            "Some weights of BertForSequenceClassification were not initialized from the model checkpoint at bert-base-uncased and are newly initialized: ['classifier.bias', 'classifier.weight']\n",
            "You should probably TRAIN this model on a down-stream task to be able to use it for predictions and inference.\n"
          ]
        }
      ]
    },
    {
      "cell_type": "markdown",
      "source": [
        "Training Configuration"
      ],
      "metadata": {
        "id": "oNEv3vGZhgqP"
      }
    },
    {
      "cell_type": "code",
      "source": [
        "from transformers import Trainer, TrainingArguments\n",
        "from sklearn.metrics import accuracy_score, f1_score\n",
        "import numpy as np\n",
        "\n",
        "def compute_metrics(eval_pred):\n",
        "    logits, labels = eval_pred\n",
        "    predictions = np.argmax(logits, axis=-1)\n",
        "    acc = accuracy_score(labels, predictions)\n",
        "    f1 = f1_score(labels, predictions)\n",
        "    return {'accuracy': acc, 'f1': f1}\n",
        "\n",
        "training_args = TrainingArguments(\n",
        "    output_dir='./results',\n",
        "    num_train_epochs=3,\n",
        "    per_device_train_batch_size=16,\n",
        "    per_device_eval_batch_size=32,\n",
        "    eval_strategy='epoch',\n",
        "    save_strategy='epoch',\n",
        "    logging_dir='./logs',\n",
        "    logging_steps=100,\n",
        "    load_best_model_at_end=True,\n",
        "    metric_for_best_model='f1',\n",
        "    greater_is_better=True,\n",
        "    seed=42,\n",
        "    fp16=True,\n",
        "    report_to=[]\n",
        ")\n",
        "\n",
        "trainer = Trainer(\n",
        "    model=model,\n",
        "    args=training_args,\n",
        "    train_dataset=train_dataset,\n",
        "    eval_dataset=val_dataset,\n",
        "    compute_metrics=compute_metrics,\n",
        ")\n",
        "\n",
        "trainer.train()\n"
      ],
      "metadata": {
        "colab": {
          "base_uri": "https://localhost:8080/",
          "height": 205
        },
        "id": "1GQVBFvliLrm",
        "outputId": "db993751-a999-4bcf-cf68-96ec8f22f460"
      },
      "execution_count": null,
      "outputs": [
        {
          "output_type": "display_data",
          "data": {
            "text/plain": [
              "<IPython.core.display.HTML object>"
            ],
            "text/html": [
              "\n",
              "    <div>\n",
              "      \n",
              "      <progress value='7500' max='7500' style='width:300px; height:20px; vertical-align: middle;'></progress>\n",
              "      [7500/7500 28:46, Epoch 3/3]\n",
              "    </div>\n",
              "    <table border=\"1\" class=\"dataframe\">\n",
              "  <thead>\n",
              " <tr style=\"text-align: left;\">\n",
              "      <th>Epoch</th>\n",
              "      <th>Training Loss</th>\n",
              "      <th>Validation Loss</th>\n",
              "      <th>Accuracy</th>\n",
              "      <th>F1</th>\n",
              "    </tr>\n",
              "  </thead>\n",
              "  <tbody>\n",
              "    <tr>\n",
              "      <td>1</td>\n",
              "      <td>0.286100</td>\n",
              "      <td>0.261122</td>\n",
              "      <td>0.894500</td>\n",
              "      <td>0.900519</td>\n",
              "    </tr>\n",
              "    <tr>\n",
              "      <td>2</td>\n",
              "      <td>0.184000</td>\n",
              "      <td>0.303050</td>\n",
              "      <td>0.916500</td>\n",
              "      <td>0.915682</td>\n",
              "    </tr>\n",
              "    <tr>\n",
              "      <td>3</td>\n",
              "      <td>0.090600</td>\n",
              "      <td>0.396338</td>\n",
              "      <td>0.915900</td>\n",
              "      <td>0.915638</td>\n",
              "    </tr>\n",
              "  </tbody>\n",
              "</table><p>"
            ]
          },
          "metadata": {}
        },
        {
          "output_type": "execute_result",
          "data": {
            "text/plain": [
              "TrainOutput(global_step=7500, training_loss=0.18953113848368328, metrics={'train_runtime': 1728.5391, 'train_samples_per_second': 69.423, 'train_steps_per_second': 4.339, 'total_flos': 1.57866633216e+16, 'train_loss': 0.18953113848368328, 'epoch': 3.0})"
            ]
          },
          "metadata": {},
          "execution_count": 16
        }
      ]
    },
    {
      "cell_type": "markdown",
      "source": [],
      "metadata": {
        "id": "Zml3IipWpiOF"
      }
    },
    {
      "cell_type": "code",
      "source": [
        "eval_results = trainer.evaluate()\n",
        "print(\"Evaluation results:\", eval_results)\n",
        "\n"
      ],
      "metadata": {
        "colab": {
          "base_uri": "https://localhost:8080/",
          "height": 75
        },
        "id": "Gus2lW5hpif0",
        "outputId": "bb7f8489-06aa-47f1-d543-15a2e09b40b3"
      },
      "execution_count": null,
      "outputs": [
        {
          "output_type": "display_data",
          "data": {
            "text/plain": [
              "<IPython.core.display.HTML object>"
            ],
            "text/html": [
              "\n",
              "    <div>\n",
              "      \n",
              "      <progress value='313' max='313' style='width:300px; height:20px; vertical-align: middle;'></progress>\n",
              "      [313/313 00:37]\n",
              "    </div>\n",
              "    "
            ]
          },
          "metadata": {}
        },
        {
          "output_type": "stream",
          "name": "stdout",
          "text": [
            "Evaluation results: {'eval_loss': 0.30304983258247375, 'eval_accuracy': 0.9165, 'eval_f1': 0.9156821165303444, 'eval_runtime': 38.0592, 'eval_samples_per_second': 262.749, 'eval_steps_per_second': 8.224, 'epoch': 3.0}\n"
          ]
        }
      ]
    },
    {
      "cell_type": "markdown",
      "source": [
        "prediction for test datasets"
      ],
      "metadata": {
        "id": "IqoedQqesITZ"
      }
    },
    {
      "cell_type": "code",
      "source": [
        "test_texts = test_df['clean_review'].tolist()\n",
        "test_encodings = tokenizer(test_texts, padding=\"max_length\", truncation=True, max_length=256)\n",
        "test_labels = test_df['sentiment'].map(label_map).tolist()\n",
        "from datasets import Dataset\n",
        "\n",
        "test_dataset = Dataset.from_dict({\n",
        "    'input_ids': test_encodings['input_ids'],\n",
        "    'attention_mask': test_encodings['attention_mask'],\n",
        "    'labels': test_labels\n",
        "})\n",
        "predictions_output = trainer.predict(test_dataset)\n",
        "pred_logits = predictions_output.predictions\n",
        "pred_labels = np.argmax(pred_logits, axis=1)\n",
        "\n",
        "# Optionally, print accuracy and F1 on test set\n",
        "from sklearn.metrics import accuracy_score, f1_score\n",
        "\n",
        "acc = accuracy_score(test_labels, pred_labels)\n",
        "f1 = f1_score(test_labels, pred_labels)\n",
        "print(f\"Test Accuracy: {acc:.4f}\")\n",
        "print(f\"Test F1 Score: {f1:.4f}\")\n"
      ],
      "metadata": {
        "colab": {
          "base_uri": "https://localhost:8080/",
          "height": 53
        },
        "id": "hx9afT67r35a",
        "outputId": "834522b3-cc81-45dd-de87-18f488f342b3"
      },
      "execution_count": null,
      "outputs": [
        {
          "output_type": "display_data",
          "data": {
            "text/plain": [
              "<IPython.core.display.HTML object>"
            ],
            "text/html": []
          },
          "metadata": {}
        },
        {
          "output_type": "stream",
          "name": "stdout",
          "text": [
            "Test Accuracy: 0.9165\n",
            "Test F1 Score: 0.9157\n"
          ]
        }
      ]
    },
    {
      "cell_type": "markdown",
      "source": [
        "prediction for validation\n"
      ],
      "metadata": {
        "id": "ouewVhUMsClw"
      }
    },
    {
      "cell_type": "code",
      "source": [
        "\n",
        "# Predict\n",
        "predictions_output = trainer.predict(val_dataset)\n",
        "logits = predictions_output.predictions\n",
        "pred_labels = np.argmax(logits, axis=-1)\n",
        "true_labels = predictions_output.label_ids\n",
        "\n",
        "\n",
        "print(classification_report(true_labels, pred_labels, target_names=['negative', 'positive']))\n"
      ],
      "metadata": {
        "colab": {
          "base_uri": "https://localhost:8080/",
          "height": 178
        },
        "id": "CZldMlRtqXGG",
        "outputId": "79ee16d3-f47f-4bfb-a79f-38af86793845"
      },
      "execution_count": null,
      "outputs": [
        {
          "output_type": "display_data",
          "data": {
            "text/plain": [
              "<IPython.core.display.HTML object>"
            ],
            "text/html": []
          },
          "metadata": {}
        },
        {
          "output_type": "stream",
          "name": "stdout",
          "text": [
            "              precision    recall  f1-score   support\n",
            "\n",
            "    negative       0.91      0.93      0.92      5000\n",
            "    positive       0.92      0.91      0.92      5000\n",
            "\n",
            "    accuracy                           0.92     10000\n",
            "   macro avg       0.92      0.92      0.92     10000\n",
            "weighted avg       0.92      0.92      0.92     10000\n",
            "\n"
          ]
        }
      ]
    },
    {
      "cell_type": "markdown",
      "source": [
        "metrics visuals for test\n"
      ],
      "metadata": {
        "id": "Ehj1u0LirWvV"
      }
    },
    {
      "cell_type": "code",
      "source": [
        "# 15. Visualize results\n",
        "metrics = {'Accuracy': acc, 'F1 Score': f1}\n",
        "plt.bar(metrics.keys(), metrics.values(), color=['skyblue', 'lightgreen'])\n",
        "plt.title('Test Set Performance Metrics')\n",
        "plt.ylim(0, 1)\n",
        "plt.show()"
      ],
      "metadata": {
        "colab": {
          "base_uri": "https://localhost:8080/",
          "height": 452
        },
        "id": "afbpsmIasuPF",
        "outputId": "49936de0-e728-4ddf-ad2e-75e20d1be3ab"
      },
      "execution_count": null,
      "outputs": [
        {
          "output_type": "display_data",
          "data": {
            "text/plain": [
              "<Figure size 640x480 with 1 Axes>"
            ],
            "image/png": "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\n"
          },
          "metadata": {}
        }
      ]
    }
  ]
}
